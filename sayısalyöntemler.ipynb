{
 "cells": [
  {
   "cell_type": "code",
   "execution_count": 4,
   "metadata": {},
   "outputs": [
    {
     "name": "stdout",
     "output_type": "stream",
     "text": [
      "\n",
      "\n",
      "*** Sabit Nokta Iterasyonu ***\n",
      "Iterasyon-1, x1 = 2.114596 | f(x1) = 0.988790\n",
      "Iterasyon-2, x1 = 1.866207 | f(x1) = -0.136110\n",
      "Iterasyon-3, x1 = 1.902324 | f(x1) = 0.021952\n",
      "Iterasyon-4, x1 = 1.896546 | f(x1) = -0.003459\n",
      "Iterasyon-5, x1 = 1.897457 | f(x1) = 0.000547\n",
      "Iterasyon-6, x1 = 1.897313 | f(x1) = -0.000086\n",
      "Iterasyon-7, x1 = 1.897336 | f(x1) = 0.000014\n",
      "\n",
      "Kök: 1.89733604\n",
      "Çıkmak için bir tuşa basınız2\n"
     ]
    },
    {
     "data": {
      "text/plain": [
       "'2'"
      ]
     },
     "execution_count": 4,
     "metadata": {},
     "output_type": "execute_result"
    }
   ],
   "source": [
    "# Sabit Nokta Iterasyonu\n",
    "import math\n",
    "\n",
    "def f(x):\n",
    "    return x*x - 4* math.exp(-x) -3\n",
    "\n",
    "# f(x)=0 => x = g(x)\n",
    "def g(x):\n",
    "    return math.sqrt(4*math.exp(-x)+3)\n",
    "\n",
    "# sabit nokta iterasyonu fonksiyon tanımı:\n",
    "def sabitnokta(x0, e, N):\n",
    "    print('\\n\\n*** Sabit Nokta Iterasyonu ***')\n",
    "    step = 1\n",
    "    flag = 1\n",
    "    condition = True\n",
    "    while condition:\n",
    "        x1 = g(x0)\n",
    "        print('Iterasyon-%d, x1 = %0.6f | f(x1) = %0.6f' % (step, x1, f(x1)))\n",
    "        x0 = x1\n",
    "\n",
    "        step = step + 1\n",
    "        \n",
    "        if step > N:\n",
    "            flag=0\n",
    "            break\n",
    "        \n",
    "        condition = abs(f(x1)) > e\n",
    "\n",
    "    if flag==1:\n",
    "        print('\\nKök: %0.8f' % x1)\n",
    "    else:\n",
    "        print('\\nYakınsak değil')\n",
    "\n",
    "\n",
    "# x0, e, N değerlerini belirleyelim.\n",
    "x0 = 1.0\n",
    "e = 0.00005\n",
    "N = 100\n",
    "\n",
    "\n",
    "sabitnokta(x0,e,N)\n",
    "\n",
    "input(\"Çıkmak için bir tuşa basınız\")"
   ]
  },
  {
   "cell_type": "code",
   "execution_count": null,
   "metadata": {},
   "outputs": [],
   "source": []
  },
  {
   "cell_type": "code",
   "execution_count": 14,
   "metadata": {},
   "outputs": [
    {
     "name": "stdout",
     "output_type": "stream",
     "text": [
      "[-1, 0]\n",
      "[0.0, -0.0]\n",
      "[0.0, -0.0]\n",
      "[0.0, -0.0]\n",
      "[0.0, -0.0]\n",
      "[0.0, -0.0]\n",
      "[0.0, -0.0]\n",
      "[0.0, -0.0]\n",
      "[0.0, -0.0]\n",
      "[0.0, -0.0]\n",
      "[0.0, -0.0]\n",
      "[0.0, -0.0]\n",
      "[0.0, -0.0]\n",
      "[0.0, -0.0]\n",
      "[0.0, -0.0]\n",
      "[0.0, -0.0]\n",
      "[0.0, -0.0]\n",
      "[0.0, -0.0]\n",
      "[0.0, -0.0]\n",
      "[0.0, -0.0]\n",
      "[0.0, -0.0]\n",
      "[0.0, -0.0]\n",
      "[0.0, -0.0]\n",
      "[0.0, -0.0]\n",
      "[0.0, -0.0]\n",
      "[0.0, -0.0]\n"
     ]
    }
   ],
   "source": [
    "# Defining our function as seidel which takes 3 arguments \n",
    "# as A matrix, Solution and B matrix \n",
    "   \n",
    "def seidel(a, x ,b): \n",
    "    #Finding length of a(3)        \n",
    "    n = len(a)                    \n",
    "    # for loop for 3 times as to calculate x, y , z \n",
    "    for j in range(0, n):         \n",
    "        # temp variable d to store b[j] \n",
    "        d = b[j]                   \n",
    "          \n",
    "        # to calculate respective xi, yi, zi \n",
    "        for i in range(0, n):      \n",
    "            if(j != i): \n",
    "                d-=a[j][i] * x[i] \n",
    "        # updating the value of our solution         \n",
    "        x[j] = d / a[j][j] \n",
    "    # returning our updated solution            \n",
    "    return x     \n",
    "   \n",
    "# int(input())input as number of variable to be solved                        \n",
    "# initial solution depending on n(here n=3)                      \n",
    "x = [-1, 0]                         \n",
    "a = [[3, 2, -14],[4,-1,9]] \n",
    "b = [0,0] \n",
    "print(x) \n",
    "  \n",
    "#loop run for m times depending on m the error value \n",
    "for i in range(0, 25):             \n",
    "    x = seidel(a, x, b) \n",
    "    #print each time the updated solution \n",
    "    print(x)          "
   ]
  },
  {
   "cell_type": "code",
   "execution_count": 7,
   "metadata": {},
   "outputs": [
    {
     "ename": "SyntaxError",
     "evalue": "invalid syntax (<ipython-input-7-7863c2daac91>, line 6)",
     "output_type": "error",
     "traceback": [
      "\u001b[1;36m  File \u001b[1;32m\"<ipython-input-7-7863c2daac91>\"\u001b[1;36m, line \u001b[1;32m6\u001b[0m\n\u001b[1;33m    3x+2*y-14 = 0\u001b[0m\n\u001b[1;37m     ^\u001b[0m\n\u001b[1;31mSyntaxError\u001b[0m\u001b[1;31m:\u001b[0m invalid syntax\n"
     ]
    }
   ],
   "source": [
    "# Gauss Seidel Iteration\n",
    "\n",
    "# Defining equations to be solved\n",
    "# in diagonally dominant form\n",
    "\n",
    "\n",
    "#x = x1, y = x2 olarak tanımladım\n",
    "\n",
    "f1 = lambda x,y: (14-2y)/3\n",
    "f2 = lambda x,y: (-9)/(4x-1)\n",
    "\n",
    "# Initial setup\n",
    "x0 = -1\n",
    "y0 = 0\n",
    "count = 1\n",
    "\n",
    "# Reading tolerable error\n",
    "e = 0.02\n",
    "\n",
    "# Implementation of Gauss Seidel Iteration\n",
    "print('\\nCount\\tx\\ty\\tz\\n')\n",
    "\n",
    "condition = True\n",
    "\n",
    "while condition:\n",
    "    x1 = f1(x0,y0)\n",
    "    y1 = f2(x1,y0)\n",
    "    \n",
    "    print('%d\\t%0.4f\\t%0.4f\\n' %(count, x1,y1))\n",
    "    e1 = abs(x0-x1);\n",
    "    e2 = abs(y0-y1);\n",
    "    \n",
    "    count += 1\n",
    "    x0 = x1\n",
    "    y0 = y1\n",
    "    \n",
    "    condition = e1>e and e2>e\n",
    "\n",
    "print('\\nSolution: x=%0.3f, y=%0.3f \\n'% (x1,y1))"
   ]
  },
  {
   "cell_type": "code",
   "execution_count": 8,
   "metadata": {},
   "outputs": [
    {
     "name": "stdout",
     "output_type": "stream",
     "text": [
      "Enter tolerable error: 0.005\n",
      "\n",
      "Count\tx\ty\tz\n",
      "\n",
      "1\t0.8500\t-1.0275\t1.0109\n",
      "\n",
      "2\t1.0025\t-0.9998\t0.9998\n",
      "\n",
      "3\t1.0000\t-1.0000\t1.0000\n",
      "\n",
      "\n",
      "Solution: x=1.000, y=-1.000 and z = 1.000\n",
      "\n"
     ]
    }
   ],
   "source": [
    "# Gauss Seidel Iteration\n",
    "\n",
    "# Defining equations to be solved\n",
    "# in diagonally dominant form\n",
    "f1 = lambda x,y,z: (17-y+2*z)/20\n",
    "f2 = lambda x,y,z: (-18-3*x+z)/20\n",
    "f3 = lambda x,y,z: (25-2*x+3*y)/20\n",
    "\n",
    "\n",
    "\n",
    "# Initial setup\n",
    "x0 = 0\n",
    "y0 = 0\n",
    "z0 = 0\n",
    "count = 1\n",
    "\n",
    "# Reading tolerable error\n",
    "e = float(input('Enter tolerable error: '))\n",
    "\n",
    "# Implementation of Gauss Seidel Iteration\n",
    "print('\\nCount\\tx\\ty\\tz\\n')\n",
    "\n",
    "condition = True\n",
    "\n",
    "while condition:\n",
    "    x1 = f1(x0,y0,z0)\n",
    "    y1 = f2(x1,y0,z0)\n",
    "    z1 = f3(x1,y1,z0)\n",
    "    print('%d\\t%0.4f\\t%0.4f\\t%0.4f\\n' %(count, x1,y1,z1))\n",
    "    e1 = abs(x0-x1);\n",
    "    e2 = abs(y0-y1);\n",
    "    e3 = abs(z0-z1);\n",
    "    \n",
    "    count += 1\n",
    "    x0 = x1\n",
    "    y0 = y1\n",
    "    z0 = z1\n",
    "    \n",
    "    condition = e1>e and e2>e and e3>e\n",
    "\n",
    "print('\\nSolution: x=%0.3f, y=%0.3f and z = %0.3f\\n'% (x1,y1,z1))"
   ]
  },
  {
   "cell_type": "markdown",
   "metadata": {},
   "source": [
    "## LAST ÇALIŞMA"
   ]
  },
  {
   "cell_type": "code",
   "execution_count": 16,
   "metadata": {},
   "outputs": [
    {
     "ename": "IndexError",
     "evalue": "list assignment index out of range",
     "output_type": "error",
     "traceback": [
      "\u001b[1;31m---------------------------------------------------------------------------\u001b[0m",
      "\u001b[1;31mIndexError\u001b[0m                                Traceback (most recent call last)",
      "\u001b[1;32m<ipython-input-16-bde71747c8c0>\u001b[0m in \u001b[0;36m<module>\u001b[1;34m\u001b[0m\n\u001b[0;32m     31\u001b[0m \u001b[1;31m#x2[n-1] = 0\u001b[0m\u001b[1;33m\u001b[0m\u001b[1;33m\u001b[0m\u001b[1;33m\u001b[0m\u001b[0m\n\u001b[0;32m     32\u001b[0m \u001b[1;33m\u001b[0m\u001b[0m\n\u001b[1;32m---> 33\u001b[1;33m \u001b[0mx1\u001b[0m\u001b[1;33m[\u001b[0m\u001b[1;36m0\u001b[0m\u001b[1;33m]\u001b[0m \u001b[1;33m=\u001b[0m \u001b[1;33m-\u001b[0m\u001b[1;36m1\u001b[0m\u001b[1;33m\u001b[0m\u001b[1;33m\u001b[0m\u001b[0m\n\u001b[0m\u001b[0;32m     34\u001b[0m \u001b[0mx2\u001b[0m\u001b[1;33m[\u001b[0m\u001b[1;36m0\u001b[0m\u001b[1;33m]\u001b[0m \u001b[1;33m=\u001b[0m \u001b[1;36m0\u001b[0m\u001b[1;33m\u001b[0m\u001b[1;33m\u001b[0m\u001b[0m\n\u001b[0;32m     35\u001b[0m \u001b[0mcount\u001b[0m \u001b[1;33m=\u001b[0m \u001b[1;36m1\u001b[0m\u001b[1;33m\u001b[0m\u001b[1;33m\u001b[0m\u001b[0m\n",
      "\u001b[1;31mIndexError\u001b[0m: list assignment index out of range"
     ]
    }
   ],
   "source": [
    "# Gauss Seidel Iteration\n",
    "x1=[]\n",
    "x2=[]\n",
    "# Defining equations to be solved\n",
    "# in diagonally dominant form\n",
    "#def f1(x2):\n",
    "#    return (x2 -9) / (4*x2)\n",
    "#def f2(x1):\n",
    "#    return  -9 / (4*x1-1)\n",
    "    \n",
    "f1 = lambda x1,x2: math.sqrt((14-2*x2*x2)/3)\n",
    "f2 = lambda x1,x2: -9 / (4*x1-1)\n",
    "##deneme tahtası\n",
    "\"\"\"4*x1*x2 -x2 +9 =0\n",
    "x2*(4*x1-1) = -9\n",
    "x2 = -9 / (4*x1-1)\n",
    "x1 = (x2-9) / (4*x2) \"\"\"\n",
    "#x1 = math.sqrt((14-2*x2*x2)/3)\n",
    "#sys1\n",
    "#x1= math.sqrt((14-2*x2*x2)/3)\n",
    "#x2= math.sqrt((14-3*x1*x1)/2)\n",
    "\n",
    "#x1 = (x2 -9) / (4*x2)\n",
    "#x2 = -9 / (4*x1-1)\n",
    "\n",
    "#f:= (x1,x2) = (math.sqrt((14-2*x2*x2)/3),math.sqrt((14-3*x1*x1)/2)) \n",
    "\n",
    "\n",
    "# Initial setup x0 değerleri\n",
    "#x1[n-1] = -1\n",
    "#x2[n-1] = 0\n",
    "\n",
    "x1[0] = -1\n",
    "x2[0] = 0\n",
    "count = 1\n",
    "\n",
    "x1[n] = f1(x1[n-1],x2[n-1])\n",
    "x2[n] = f2(x1[n],x2[n-1])\n",
    "\n",
    "# Reading tolerable error\n",
    "e = 0.02\n",
    "\n",
    "# Implementation of Gauss Seidel Iteration\n",
    "print('\\nCount\\tx\\ty\\n')\n",
    "\n",
    "condition = True\n",
    "\n",
    "while condition:\n",
    "    x1[n] = f1(x1[n-1],x2[n-1])\n",
    "    x2[n] = f2(x1[n],x2[n-1])\n",
    "    print('%d\\t%0.4f\\t%0.4f\\n' %(count, x1[n],x2[n]))\n",
    "    e1 = abs(x1[n]-x1[n-1]);\n",
    "    e2 = abs(x2[n]-x2[n-1]);\n",
    "    \n",
    "    count += 1\n",
    "    x1[n-1] = x1[n]\n",
    "    x2[n-1] = x2[n]\n",
    "    \n",
    "    condition = e1>e and e2>e\n",
    "\n",
    "print('\\nSolution: x=%0.3f and y=%0.3f\\n'% (x1[n-1],x2[n-1]))"
   ]
  },
  {
   "cell_type": "code",
   "execution_count": 23,
   "metadata": {},
   "outputs": [
    {
     "name": "stdout",
     "output_type": "stream",
     "text": [
      "Gauss Seidel Iterasyonu\n",
      "\n",
      "Count\tx\ty\n",
      "\n"
     ]
    },
    {
     "ename": "ZeroDivisionError",
     "evalue": "division by zero",
     "output_type": "error",
     "traceback": [
      "\u001b[1;31m---------------------------------------------------------------------------\u001b[0m",
      "\u001b[1;31mZeroDivisionError\u001b[0m                         Traceback (most recent call last)",
      "\u001b[1;32m<ipython-input-23-d0c93bfc6237>\u001b[0m in \u001b[0;36m<module>\u001b[1;34m\u001b[0m\n\u001b[0;32m     30\u001b[0m \u001b[1;33m\u001b[0m\u001b[0m\n\u001b[0;32m     31\u001b[0m \u001b[1;32mwhile\u001b[0m \u001b[0mcondition\u001b[0m\u001b[1;33m:\u001b[0m\u001b[1;33m\u001b[0m\u001b[1;33m\u001b[0m\u001b[0m\n\u001b[1;32m---> 32\u001b[1;33m     \u001b[0mx1\u001b[0m \u001b[1;33m=\u001b[0m \u001b[0mf1\u001b[0m\u001b[1;33m(\u001b[0m\u001b[0mx0\u001b[0m\u001b[1;33m,\u001b[0m\u001b[0my0\u001b[0m\u001b[1;33m)\u001b[0m\u001b[1;33m\u001b[0m\u001b[1;33m\u001b[0m\u001b[0m\n\u001b[0m\u001b[0;32m     33\u001b[0m     \u001b[0my1\u001b[0m \u001b[1;33m=\u001b[0m \u001b[0mf2\u001b[0m\u001b[1;33m(\u001b[0m\u001b[0mx1\u001b[0m\u001b[1;33m,\u001b[0m\u001b[0my0\u001b[0m\u001b[1;33m)\u001b[0m\u001b[1;33m\u001b[0m\u001b[1;33m\u001b[0m\u001b[0m\n\u001b[0;32m     34\u001b[0m     \u001b[0mprint\u001b[0m\u001b[1;33m(\u001b[0m\u001b[1;34m'%d\\t%0.4f\\t%0.4f\\n'\u001b[0m \u001b[1;33m%\u001b[0m\u001b[1;33m(\u001b[0m\u001b[0mcount\u001b[0m\u001b[1;33m,\u001b[0m \u001b[0mx1\u001b[0m\u001b[1;33m,\u001b[0m\u001b[0my1\u001b[0m\u001b[1;33m)\u001b[0m\u001b[1;33m)\u001b[0m\u001b[1;33m\u001b[0m\u001b[1;33m\u001b[0m\u001b[0m\n",
      "\u001b[1;32m<ipython-input-23-d0c93bfc6237>\u001b[0m in \u001b[0;36m<lambda>\u001b[1;34m(x, y)\u001b[0m\n\u001b[0;32m      8\u001b[0m \u001b[1;31m#f1 = lambda x,y: math.sqrt((14-2*y*y)/3)\u001b[0m\u001b[1;33m\u001b[0m\u001b[1;33m\u001b[0m\u001b[1;33m\u001b[0m\u001b[0m\n\u001b[0;32m      9\u001b[0m \u001b[1;31m#f2 = lambda x,y: -9 / (4*x-1)\u001b[0m\u001b[1;33m\u001b[0m\u001b[1;33m\u001b[0m\u001b[1;33m\u001b[0m\u001b[0m\n\u001b[1;32m---> 10\u001b[1;33m \u001b[0mf1\u001b[0m \u001b[1;33m=\u001b[0m \u001b[1;32mlambda\u001b[0m \u001b[0mx\u001b[0m\u001b[1;33m,\u001b[0m\u001b[0my\u001b[0m\u001b[1;33m:\u001b[0m \u001b[1;33m(\u001b[0m\u001b[0my\u001b[0m\u001b[1;33m-\u001b[0m\u001b[1;36m9\u001b[0m\u001b[1;33m)\u001b[0m \u001b[1;33m/\u001b[0m \u001b[1;33m(\u001b[0m\u001b[1;36m4\u001b[0m\u001b[1;33m*\u001b[0m\u001b[0my\u001b[0m\u001b[1;33m)\u001b[0m\u001b[1;33m\u001b[0m\u001b[1;33m\u001b[0m\u001b[0m\n\u001b[0m\u001b[0;32m     11\u001b[0m \u001b[0mf2\u001b[0m \u001b[1;33m=\u001b[0m \u001b[1;32mlambda\u001b[0m \u001b[0mx\u001b[0m\u001b[1;33m,\u001b[0m\u001b[0my\u001b[0m\u001b[1;33m:\u001b[0m \u001b[0mmath\u001b[0m\u001b[1;33m.\u001b[0m\u001b[0msqrt\u001b[0m\u001b[1;33m(\u001b[0m\u001b[1;33m(\u001b[0m\u001b[1;36m14\u001b[0m\u001b[1;33m-\u001b[0m\u001b[1;36m3\u001b[0m\u001b[1;33m*\u001b[0m\u001b[0mx\u001b[0m\u001b[1;33m)\u001b[0m\u001b[1;33m/\u001b[0m\u001b[1;36m2\u001b[0m\u001b[1;33m)\u001b[0m\u001b[1;33m\u001b[0m\u001b[1;33m\u001b[0m\u001b[0m\n\u001b[0;32m     12\u001b[0m \u001b[1;33m\u001b[0m\u001b[0m\n",
      "\u001b[1;31mZeroDivisionError\u001b[0m: division by zero"
     ]
    }
   ],
   "source": [
    "# Gauss Seidel Iteration\n",
    "import math\n",
    "# Defining equations to be solved\n",
    "# in diagonally dominant form\n",
    "#f1 = lambda x,y: (17-y+2*z)/20\n",
    "#f2 = lambda x,y: (-18-3*x+z)/20\n",
    "\n",
    "#f1 = lambda x,y: math.sqrt((14-2*y*y)/3)\n",
    "#f2 = lambda x,y: -9 / (4*x-1)\n",
    "f1 = lambda x,y: (y-9) / (4*y)\n",
    "f2 = lambda x,y: math.sqrt((14-3*x)/2)\n",
    "\n",
    "\n",
    "# x = (y-9) / (4*y)\n",
    "# y = math.sqrt((14-3*x)/2)\n",
    "\n",
    "# Initial setup\n",
    "x0 = -1\n",
    "y0 = 0\n",
    "count = 1\n",
    "\n",
    "# Reading tolerable error\n",
    "e = 0.02\n",
    "\n",
    "# Implementation of Gauss Seidel Iteration\n",
    "print(\"Gauss Seidel Iterasyonu\")\n",
    "print('\\nCount\\tx\\ty\\n')\n",
    "\n",
    "condition = True\n",
    "\n",
    "while condition:\n",
    "    x1 = f1(x0,y0)\n",
    "    y1 = f2(x1,y0)\n",
    "    print('%d\\t%0.4f\\t%0.4f\\n' %(count, x1,y1))\n",
    "    e1 = abs(x0-x1);\n",
    "    e2 = abs(y0-y1);\n",
    "    \n",
    "    count += 1\n",
    "    x0 = x1\n",
    "    y0 = y1\n",
    "    \n",
    "    condition = e1>e and e2>e\n",
    "\n",
    "print('\\nSolution: x=%0.3f, y=%0.3f\\n'% (x1,y1))"
   ]
  },
  {
   "cell_type": "code",
   "execution_count": 20,
   "metadata": {},
   "outputs": [
    {
     "data": {
      "text/plain": [
       "2.0"
      ]
     },
     "execution_count": 20,
     "metadata": {},
     "output_type": "execute_result"
    }
   ],
   "source": [
    "\n",
    "math.sqrt(4)"
   ]
  },
  {
   "cell_type": "code",
   "execution_count": 22,
   "metadata": {},
   "outputs": [
    {
     "data": {
      "text/plain": [
       "-3.0"
      ]
     },
     "execution_count": 22,
     "metadata": {},
     "output_type": "execute_result"
    }
   ],
   "source": [
    "f2(1,2)"
   ]
  },
  {
   "cell_type": "code",
   "execution_count": null,
   "metadata": {},
   "outputs": [],
   "source": [
    "% INPUT: the number of equations and unknowns n; the entries a(i,j), 1<=i,\n",
    "% j<=n of the matrix A; the entries b(i), 1<=i<=n of bl the entries XO(i),\n",
    "% 1<=i<=n of XO = x(0); tolerance TOL; max number of iterations N.\n",
    "\n",
    "% OUTPUT: the approximate solution x(1), ..., x(n) or a message that the\n",
    "% number of iterations was exceeded.\n",
    "\n",
    "a = [1 0 -2; -.5 1 -.25; 1 -.5 1];\n",
    "n = rank(a)\n",
    "b = [.2; -1.425; 2];\n",
    "XO = [-1, 0]\n",
    "TOL = 0.02\n",
    "N = 10000\n",
    "k = 1; % let k be 1 for the first iteration\n",
    "s = 0; % let s be 0. We will use this variable for summation functions\n",
    "p = 0; % let p be 0. We will use this variable for summation functions\n",
    "while k <= N % While k is less than or equal to our max iterations N\n",
    "    for i = 1:n % For entries 1 to n:\n",
    "        for j = 1:i-1 % For entries 1 to i-1:\n",
    "            s = s + a(i,j).*x(j); % compute the first summation\n",
    "        end % end for loop\n",
    "        for j = i+1:n % For entries i+1 to n:\n",
    "            p = p + a(i,j).*XO(j); % compute second summation\n",
    "        end % end for loop\n",
    "        x(i) = (1./a(i,i)).*(-s - p + b(i)); % calculate the values in our approximated x vector\n",
    "        s = 0; % reset s back to zero\n",
    "        p = 0; % reset p back to zero\n",
    "    end % end for loop\n",
    "    if max(x' - XO) < TOL % If our change between iterations is less than our tolerance:\n",
    "        x % print the approximation\n",
    "        break; % break while loop\n",
    "    end % end if loop\n",
    "    k = k+1; % Otherwise, our tolerance has not been reached, so increment iterative count by one to go through the loop again\n",
    "    for i = 1:n % For entries 1 to n:\n",
    "        XO(i) = x(i)'; % set our x vector equal to XO for the next iteration\n",
    "    end % end for loop\n",
    "end % end while loop\n",
    "fprintf('Maximum number of iterations exceeded \\n') % output message to user\n",
    "XO % print final approximation we get with our tolerance and max iterations\n",
    "\n",
    "% Now we need to calculate the error\n",
    "A = [a b]; % cocatenate the system of equations\n",
    "R = rref(A);  % first we need the actual solution to the system, so we calculate the reduced row echelon form of A\n",
    "for i = 1:n % For entries 1 to n:\n",
    "    XA(i)=R(i,n+1); % compute the actual solution\n",
    "end % end for loop\n",
    "\n",
    "disp('Actual solution: ')\n",
    "XA = XA' % transpose XA and print the actual solution\n",
    "% and calculate relative error\n",
    "ER = max(abs(XA-XO))./max(XA); % calculate error\n",
    "fprintf('ER: %.6f (reached after %d iterations)\\n', ER, k) % print error\n"
   ]
  },
  {
   "cell_type": "code",
   "execution_count": 24,
   "metadata": {},
   "outputs": [
    {
     "ename": "NameError",
     "evalue": "name 'x' is not defined",
     "output_type": "error",
     "traceback": [
      "\u001b[1;31m---------------------------------------------------------------------------\u001b[0m",
      "\u001b[1;31mNameError\u001b[0m                                 Traceback (most recent call last)",
      "\u001b[1;32m<ipython-input-24-c905da29774a>\u001b[0m in \u001b[0;36m<module>\u001b[1;34m\u001b[0m\n\u001b[0;32m     27\u001b[0m     \u001b[0mprint\u001b[0m\u001b[1;33m(\u001b[0m\u001b[1;34m\"Doesn't converge.\"\u001b[0m\u001b[1;33m)\u001b[0m\u001b[1;33m\u001b[0m\u001b[1;33m\u001b[0m\u001b[0m\n\u001b[0;32m     28\u001b[0m \u001b[1;33m\u001b[0m\u001b[0m\n\u001b[1;32m---> 29\u001b[1;33m \u001b[0mmatrix2\u001b[0m \u001b[1;33m=\u001b[0m \u001b[1;33m[\u001b[0m\u001b[1;33m[\u001b[0m\u001b[1;36m3\u001b[0m\u001b[1;33m*\u001b[0m\u001b[0mx\u001b[0m\u001b[1;33m,\u001b[0m \u001b[1;36m2\u001b[0m\u001b[1;33m*\u001b[0m\u001b[0my\u001b[0m\u001b[1;33m]\u001b[0m\u001b[1;33m,\u001b[0m \u001b[1;33m[\u001b[0m\u001b[1;36m4\u001b[0m\u001b[1;33m*\u001b[0m\u001b[0my\u001b[0m\u001b[1;33m,\u001b[0m \u001b[1;33m-\u001b[0m\u001b[0my\u001b[0m\u001b[1;33m]\u001b[0m\u001b[1;33m]\u001b[0m\u001b[1;33m\u001b[0m\u001b[1;33m\u001b[0m\u001b[0m\n\u001b[0m\u001b[0;32m     30\u001b[0m \u001b[0mvector2\u001b[0m \u001b[1;33m=\u001b[0m  \u001b[1;33m[\u001b[0m\u001b[1;36m14.0\u001b[0m\u001b[1;33m,\u001b[0m \u001b[1;33m-\u001b[0m\u001b[1;36m9.0\u001b[0m\u001b[1;33m]\u001b[0m\u001b[1;33m\u001b[0m\u001b[1;33m\u001b[0m\u001b[0m\n\u001b[0;32m     31\u001b[0m \u001b[0mguess\u001b[0m \u001b[1;33m=\u001b[0m \u001b[1;33m[\u001b[0m\u001b[1;33m-\u001b[0m\u001b[1;36m1.0\u001b[0m\u001b[1;33m,\u001b[0m \u001b[1;36m0.0\u001b[0m\u001b[1;33m]\u001b[0m\u001b[1;33m\u001b[0m\u001b[1;33m\u001b[0m\u001b[0m\n",
      "\u001b[1;31mNameError\u001b[0m: name 'x' is not defined"
     ]
    }
   ],
   "source": [
    "def gaussSeidel(A, b, x, N, tol):\n",
    "    maxIterations = 1000000\n",
    "    xprev = [0.0 for i in range(N)]\n",
    "    for i in range(maxIterations):\n",
    "        for j in range(N):\n",
    "            xprev[j] = x[j]\n",
    "        for j in range(N):\n",
    "            summ = 0.0\n",
    "            for k in range(N):\n",
    "                if (k != j):\n",
    "                    summ = summ + A[j][k] * x[k]\n",
    "            x[j] = (b[j] - summ) / A[j][j]\n",
    "        diff1norm = 0.0\n",
    "        oldnorm = 0.0\n",
    "        for j in range(N):\n",
    "            diff1norm = diff1norm + abs(x[j] - xprev[j])\n",
    "            oldnorm = oldnorm + abs(xprev[j])  \n",
    "        if oldnorm == 0.0:\n",
    "            oldnorm = 1.0\n",
    "        norm = diff1norm / oldnorm\n",
    "        if (norm < tol) and i != 0:\n",
    "            print(\"Sequence converges to [\", end=\"\")\n",
    "            for j in range(N - 1):\n",
    "                print(x[j], \",\", end=\"\")\n",
    "            print(x[N - 1], \"]. Took\", i + 1, \"iterations.\")\n",
    "            return\n",
    "    print(\"Doesn't converge.\")\n",
    "\n",
    "matrix2 = [[3*x, 2*y], [4*y, -y]]\n",
    "vector2 =  [14.0, -9.0]\n",
    "guess = [-1.0, 0.0]\n",
    "\n",
    "\n",
    "gaussSeidel(matrix2, vector2, guess, 2, 0.02)"
   ]
  },
  {
   "cell_type": "code",
   "execution_count": null,
   "metadata": {},
   "outputs": [],
   "source": [
    "def jacobian(f, x):\n",
    "     h = 1.0e-4\n",
    "     n = len(x)\n",
    "     Jac = zeros([n,n])\n",
    "     f0 = f(x)\n",
    "     for i in arange(0, n, 1):\n",
    "              tt = x[i]\n",
    "              x[i] = tt + h\n",
    "              f1= f(x)\n",
    "              x[i] = tt\n",
    "              Jac [:, i] = (f1 - f0)/h\n",
    "     return Jac, f0\n",
    "\n",
    "\n",
    "def newton(f, x, tol=1.0e-9):\n",
    "     iterMax = 50\n",
    "     for i in range(iterMax):\n",
    "              Jac, fO = jacobian(f, x)\n",
    "              if sqrt(dot(fO, fO) / len(x)) < tol:\n",
    "                       return x, i\n",
    "              dx = linalg.solve(Jac, fO)\n",
    "              x = x - dx\n",
    "     print (\"Too many iterations for the Newton method\")\n",
    "n = 2\n",
    "\n",
    "\n",
    "def f(x):\n",
    "     f = zeros([n])\n",
    "     for i in arange(0,n):\n",
    "        f[1] = 3*x[n-1]^2 - x*[n-1] + x[n]*2 - 1  # my two equations\n",
    "        f[n-1] = x[n] - math.tan(x[n-1])\n",
    "     return f\n",
    "x0 = zeros([n])\n",
    "x, iter = newton(f, x0)"
   ]
  },
  {
   "cell_type": "code",
   "execution_count": 61,
   "metadata": {},
   "outputs": [
    {
     "name": "stdout",
     "output_type": "stream",
     "text": [
      "-pi*x1*sin(pi*x1) + 2*x1 + cos(pi*x1) - 1\n",
      "-pi*x1*sin(pi*x1) + 2*x1 + cos(pi*x1) - 1\n",
      "2*x1 - exp(-x1) + x1**(-2)\n",
      "2*x1 - exp(-x1) + x1**(-2)\n"
     ]
    }
   ],
   "source": [
    "from sympy import *\n",
    "x1, x2 = symbols('x1 x2')\n",
    "F0 = x0**2 - x1 + x0*cos(pi*x0)\n",
    "F1 = x0*x1 + exp(-x1) - x0**(-1)\n",
    "print(diff(F0, x0))\n",
    "\n",
    "print(diff(F0, x1))\n",
    "\n",
    "print(diff(F1, x0))\n",
    "print(diff(F1, x1))\n",
    "\n"
   ]
  },
  {
   "cell_type": "code",
   "execution_count": 160,
   "metadata": {},
   "outputs": [],
   "source": [
    "import numpy as np\n",
    "\n",
    "def Newton_system(F, J, x, eps):\n",
    "    \"\"\"\n",
    "    Solve nonlinear system F=0 by Newton's method.\n",
    "    J is the Jacobian of F. Both F and J must be functions of x.\n",
    "    At input, x holds the start value. The iteration continues\n",
    "    until ||F|| < eps.\n",
    "    \"\"\"\n",
    "    F_value = F(x)\n",
    "    F_norm = np.linalg.norm(F_value, ord=2)  # l2 norm of vector\n",
    "    iteration_counter = 0\n",
    "    while abs(F_norm) > eps and iteration_counter < 100:\n",
    "        delta = np.linalg.solve(J(x), -F_value)\n",
    "        x = x + delta\n",
    "        F_value = F(x)\n",
    "        F_norm = np.linalg.norm(F_value, ord=2)\n",
    "        iteration_counter += 1\n",
    "\n",
    "    # Here, either a solution is found, or too many iterations\n",
    "    if abs(F_norm) > eps:\n",
    "        iteration_counter = -1\n",
    "    return x, iteration_counter"
   ]
  },
  {
   "cell_type": "code",
   "execution_count": 198,
   "metadata": {},
   "outputs": [],
   "source": [
    "import math\n",
    "def test_Newton_system1():\n",
    "    from numpy import cos, sin, pi, exp\n",
    "\n",
    "    def F(x):\n",
    "        return np.array([3*x[0]*x[0] + 2*x[1]*x[1] -14, 4*x[0]*x[1] -x[1] +9])\n",
    "\n",
    "    def J(x):\n",
    "        return np.array([[6*x[0], 4*x[1]],[4*x[1], 4*x[0] -1]])\n",
    "\n",
    "    expected = np.array([0, 0])\n",
    "    tol = 0.02\n",
    "    x, n = Newton_system(F, J, x=np.array([-1, 0]), eps=0.02)\n",
    "    print (x)\n",
    "#    error_norm = np.linalg.norm(expected - x, ord=2)\n",
    "#    assert error_norm < tol, f'norm of error ={error_norm}'\n",
    "#    print(f'norm of error ={error_norm}')"
   ]
  },
  {
   "cell_type": "code",
   "execution_count": 199,
   "metadata": {},
   "outputs": [
    {
     "name": "stdout",
     "output_type": "stream",
     "text": [
      "[-2.00000942  1.00000881]\n"
     ]
    }
   ],
   "source": [
    "test_Newton_system1()"
   ]
  },
  {
   "cell_type": "code",
   "execution_count": 235,
   "metadata": {},
   "outputs": [
    {
     "name": "stdout",
     "output_type": "stream",
     "text": [
      "***Newton Raphson Iterasyonu***\n",
      "Iterasyon-1: x1 = -2.833333 | x2 = 1.800000  21.179801961092814\n",
      "Iterasyon-2: x1 = -2.141175 | x2 = 1.133801  2.9676883548702593\n",
      "Iterasyon-3: x1 = -2.005588 | x2 = 1.005250  0.11242925877274754\n",
      "Iterasyon-4: x1 = -2.000009 | x2 = 1.000009  0.00018886149005501287\n",
      "Kökler: x1 = -2.000009 | x2 = 1.000009\n",
      "Çıkmak için Enter'a basınız\n"
     ]
    },
    {
     "data": {
      "text/plain": [
       "''"
      ]
     },
     "execution_count": 235,
     "metadata": {},
     "output_type": "execute_result"
    }
   ],
   "source": [
    "import numpy as np\n",
    "import math\n",
    "\n",
    "# matris tanımı\n",
    "def F(x):\n",
    "    return np.array([3*x[0]*x[0] + 2*x[1]*x[1] -14, 4*x[0]*x[1] -x[1] +9])\n",
    "\n",
    "# Jakobian tanımı\n",
    "def J(x):\n",
    "    return np.array([[6*x[0], 4*x[1]],[4*x[1], 4*x[0] -1]])\n",
    "\n",
    "# Başlangıç değerleri ve hata toleransı \n",
    "x0 = np.array([-1, 0])\n",
    "tol = 0.02\n",
    "\n",
    "# F -> matris\n",
    "# J -> Jakobian\n",
    "# x -> başlangıç değerleri\n",
    "# e -> hata toleransı\n",
    "\n",
    "def Newton_system(F, J, x, e):\n",
    "    print(\"***Newton Raphson Iterasyonu***\")\n",
    "    F_value = F(x)\n",
    "    F_norm = np.linalg.norm(F_value, ord=2)\n",
    "    iteration_counter = 1\n",
    "    while abs(F_norm) > e and iteration_counter < 100:\n",
    "        delta = np.linalg.solve(J(x), -F_value)\n",
    "        x = x + delta\n",
    "        F_value = F(x)\n",
    "        F_norm = np.linalg.norm(F_value, ord=2)\n",
    "        print(f\"Iterasyon-{iteration_counter}: x1 = {x[0]:.6f} | x2 = {x[1]:.6f}  {F_norm}\")\n",
    "        iteration_counter += 1\n",
    "\n",
    "    print(f\"Kökler: x1 = {x[0]:.6f} | x2 = {x[1]:.6f}\")\n",
    "\n",
    "Newton_system(F, J, x=x0, e=tol)\n",
    "input(\"Çıkmak için Enter'a basınız\")"
   ]
  },
  {
   "cell_type": "code",
   "execution_count": 209,
   "metadata": {},
   "outputs": [
    {
     "data": {
      "text/plain": [
       "array([-2.00000942,  1.00000881])"
      ]
     },
     "execution_count": 209,
     "metadata": {},
     "output_type": "execute_result"
    }
   ],
   "source": [
    "x"
   ]
  },
  {
   "cell_type": "code",
   "execution_count": null,
   "metadata": {},
   "outputs": [],
   "source": []
  }
 ],
 "metadata": {
  "kernelspec": {
   "display_name": "Python 3",
   "language": "python",
   "name": "python3"
  },
  "language_info": {
   "codemirror_mode": {
    "name": "ipython",
    "version": 3
   },
   "file_extension": ".py",
   "mimetype": "text/x-python",
   "name": "python",
   "nbconvert_exporter": "python",
   "pygments_lexer": "ipython3",
   "version": "3.8.3"
  }
 },
 "nbformat": 4,
 "nbformat_minor": 4
}
