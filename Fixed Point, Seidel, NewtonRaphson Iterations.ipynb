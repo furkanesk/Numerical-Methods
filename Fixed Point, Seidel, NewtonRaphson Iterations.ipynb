{
 "cells": [
  {
   "cell_type": "markdown",
   "metadata": {},
   "source": [
    "## Fixed Point Iteration"
   ]
  },
  {
   "cell_type": "code",
   "execution_count": null,
   "metadata": {},
   "outputs": [],
   "source": [
    "# Sabit Nokta Iterasyonu\n",
    "import math\n",
    "\n",
    "def f(x):\n",
    "    return x*x - 4* math.exp(-x) -3\n",
    "\n",
    "# f(x)=0 => x = g(x)\n",
    "def g(x):\n",
    "    return math.sqrt(4*math.exp(-x)+3)\n",
    "\n",
    "# sabit nokta iterasyonu fonksiyon tanımı:\n",
    "def sabitnokta(x0, e, N):\n",
    "    print('\\n\\n*** Sabit Nokta Iterasyonu ***')\n",
    "    step = 1\n",
    "    flag = 1\n",
    "    condition = True\n",
    "    while condition:\n",
    "        x1 = g(x0)\n",
    "        print('Iterasyon-%d, x1 = %0.6f | f(x1) = %0.6f' % (step, x1, f(x1)))\n",
    "        x0 = x1\n",
    "\n",
    "        step = step + 1\n",
    "        \n",
    "        if step > N:\n",
    "            flag=0\n",
    "            break\n",
    "        \n",
    "        condition = abs(f(x1)) > e\n",
    "\n",
    "    if flag==1:\n",
    "        print('\\nKök: %0.8f' % x1)\n",
    "    else:\n",
    "        print('\\nYakınsak değil')\n",
    "\n",
    "\n",
    "# x0, e, N değerlerini belirleyelim.\n",
    "x0 = 1.0\n",
    "e = 0.00005\n",
    "N = 100\n",
    "\n",
    "\n",
    "sabitnokta(x0,e,N)\n",
    "\n",
    "input(\"Çıkmak için bir tuşa basınız\")"
   ]
  },
  {
   "cell_type": "code",
   "execution_count": null,
   "metadata": {},
   "outputs": [],
   "source": []
  },
  {
   "cell_type": "code",
   "execution_count": null,
   "metadata": {},
   "outputs": [],
   "source": [
    "# Gauss Seidel Iteration\n",
    "\n",
    "# Defining equations to be solved\n",
    "# in diagonally dominant form\n",
    "f1 = lambda x,y,z: (17-y+2*z)/20\n",
    "f2 = lambda x,y,z: (-18-3*x+z)/20\n",
    "f3 = lambda x,y,z: (25-2*x+3*y)/20\n",
    "\n",
    "\n",
    "\n",
    "# Initial setup\n",
    "x0 = 0\n",
    "y0 = 0\n",
    "z0 = 0\n",
    "count = 1\n",
    "\n",
    "# Reading tolerable error\n",
    "e = float(input('Enter tolerable error: '))\n",
    "\n",
    "# Implementation of Gauss Seidel Iteration\n",
    "print('\\nCount\\tx\\ty\\tz\\n')\n",
    "\n",
    "condition = True\n",
    "\n",
    "while condition:\n",
    "    x1 = f1(x0,y0,z0)\n",
    "    y1 = f2(x1,y0,z0)\n",
    "    z1 = f3(x1,y1,z0)\n",
    "    print('%d\\t%0.4f\\t%0.4f\\t%0.4f\\n' %(count, x1,y1,z1))\n",
    "    e1 = abs(x0-x1);\n",
    "    e2 = abs(y0-y1);\n",
    "    e3 = abs(z0-z1);\n",
    "    \n",
    "    count += 1\n",
    "    x0 = x1\n",
    "    y0 = y1\n",
    "    z0 = z1\n",
    "    \n",
    "    condition = e1>e and e2>e and e3>e\n",
    "\n",
    "print('\\nSolution: x=%0.3f, y=%0.3f and z = %0.3f\\n'% (x1,y1,z1))"
   ]
  },
  {
   "cell_type": "markdown",
   "metadata": {},
   "source": [
    "## Gauss Seidel Iteration v1\n",
    "\n",
    "Not working"
   ]
  },
  {
   "cell_type": "code",
   "execution_count": null,
   "metadata": {},
   "outputs": [],
   "source": [
    "# Gauss Seidel Iteration\n",
    "x1=[]\n",
    "x2=[]\n",
    "\n",
    "    \n",
    "f1 = lambda x1,x2: math.sqrt((14-2*x2*x2)/3)\n",
    "f2 = lambda x1,x2: -9 / (4*x1-1)\n",
    "\n",
    "x1[n-1] = -1\n",
    "x2[n-1] = 0\n",
    "count = 1\n",
    "\n",
    "x1[n] = f1(x1[n-1],x2[n-1])\n",
    "x2[n] = f2(x1[n],x2[n-1])\n",
    "\n",
    "# Hata Toleransı\n",
    "e = 0.02\n",
    "\n",
    "# Gauss Seidel\n",
    "print('\\nCount\\tx\\ty\\n')\n",
    "\n",
    "condition = True\n",
    "\n",
    "while condition:\n",
    "    x1[n] = f1(x1[n-1],x2[n-1])\n",
    "    x2[n] = f2(x1[n],x2[n-1])\n",
    "    print('%d\\t%0.4f\\t%0.4f\\n' %(count, x1[n],x2[n]))\n",
    "    e1 = abs(x1[n]-x1[n-1]);\n",
    "    e2 = abs(x2[n]-x2[n-1]);\n",
    "    \n",
    "    count += 1\n",
    "    x1[n-1] = x1[n]\n",
    "    x2[n-1] = x2[n]\n",
    "    \n",
    "    condition = e1>e and e2>e\n",
    "\n",
    "print('\\nSolution: x=%0.3f and y=%0.3f\\n'% (x1[n-1],x2[n-1]))"
   ]
  },
  {
   "cell_type": "code",
   "execution_count": null,
   "metadata": {},
   "outputs": [],
   "source": [
    "from sympy import *\n",
    "x1, x2 = symbols('x1 x2')\n",
    "F0 = x0**2 - x1 + x0*cos(pi*x0)\n",
    "F1 = x0*x1 + exp(-x1) - x0**(-1)\n",
    "print(diff(F0, x0))"
   ]
  },
  {
   "cell_type": "code",
   "execution_count": 3,
   "metadata": {},
   "outputs": [],
   "source": [
    "import numpy as np\n",
    "\n",
    "def Newton_system(F, J, x, eps):\n",
    "    \n",
    "    F_value = F(x)\n",
    "    F_norm = np.linalg.norm(F_value, ord=2)\n",
    "    iteration_counter = 0\n",
    "    while abs(F_norm) > eps and iteration_counter < 100:\n",
    "        delta = np.linalg.solve(J(x), -F_value)\n",
    "        x = x + delta\n",
    "        F_value = F(x)\n",
    "        F_norm = np.linalg.norm(F_value, ord=2)\n",
    "        iteration_counter += 1\n",
    "\n",
    "    # 100 iterasyona rağmen çözüm bulunamazsa\n",
    "    if abs(F_norm) > eps:\n",
    "        iteration_counter = -1\n",
    "    return x, iteration_counter"
   ]
  },
  {
   "cell_type": "code",
   "execution_count": 4,
   "metadata": {},
   "outputs": [],
   "source": [
    "import math\n",
    "def test_Newton_system():\n",
    "    from numpy import cos, sin, pi, exp\n",
    "\n",
    "    def F(x):\n",
    "        return np.array([3*x[0]*x[0] + 2*x[1]*x[1] -14, 4*x[0]*x[1] -x[1] +9])\n",
    "\n",
    "    def J(x):\n",
    "        return np.array([[6*x[0], 4*x[1]],[4*x[1], 4*x[0] -1]])\n",
    "\n",
    "    expected = np.array([0, 0])\n",
    "    tol = 0.02\n",
    "    x, n = Newton_system(F, J, x=np.array([-1, 0]), eps=0.02)\n",
    "    print (x)"
   ]
  },
  {
   "cell_type": "code",
   "execution_count": 5,
   "metadata": {},
   "outputs": [
    {
     "name": "stdout",
     "output_type": "stream",
     "text": [
      "[-2.00000942  1.00000881]\n"
     ]
    }
   ],
   "source": [
    "test_Newton_system()"
   ]
  },
  {
   "cell_type": "markdown",
   "metadata": {},
   "source": [
    "## Sabit Nokta İterasyonu Son Çalışma"
   ]
  },
  {
   "cell_type": "code",
   "execution_count": 2,
   "metadata": {},
   "outputs": [
    {
     "name": "stdout",
     "output_type": "stream",
     "text": [
      "***Newton Raphson Iterasyonu***\n",
      "Iterasyon-1: x1 = -2.833333 | x2 = 1.800000  21.179801961092814\n",
      "Iterasyon-2: x1 = -2.141175 | x2 = 1.133801  2.9676883548702593\n",
      "Iterasyon-3: x1 = -2.005588 | x2 = 1.005250  0.11242925877274754\n",
      "Iterasyon-4: x1 = -2.000009 | x2 = 1.000009  0.00018886149005501287\n",
      "Kökler: x1 = -2.000009 | x2 = 1.000009\n"
     ]
    }
   ],
   "source": [
    "import numpy as np\n",
    "import math\n",
    "\n",
    "# matris tanımı\n",
    "def F(x):\n",
    "    return np.array([3*x[0]*x[0] + 2*x[1]*x[1] -14, 4*x[0]*x[1] -x[1] +9])\n",
    "\n",
    "# Jakobian tanımı\n",
    "def J(x):\n",
    "    return np.array([[6*x[0], 4*x[1]],[4*x[1], 4*x[0] -1]])\n",
    "\n",
    "# Başlangıç değerleri ve hata toleransı \n",
    "x0 = np.array([-1, 0])\n",
    "tol = 0.02\n",
    "\n",
    "# F -> matris\n",
    "# J -> Jakobian\n",
    "# x -> başlangıç değerleri\n",
    "# e -> hata toleransı\n",
    "\n",
    "def Newton_system(F, J, x, e):\n",
    "    print(\"***Newton Raphson Iterasyonu***\")\n",
    "    F_value = F(x)\n",
    "    F_norm = np.linalg.norm(F_value, ord=2)\n",
    "    iteration_counter = 1\n",
    "    while abs(F_norm) > e and iteration_counter < 100:\n",
    "        delta = np.linalg.solve(J(x), -F_value)\n",
    "        x = x + delta\n",
    "        F_value = F(x)\n",
    "        F_norm = np.linalg.norm(F_value, ord=2)\n",
    "        print(f\"Iterasyon-{iteration_counter}: x1 = {x[0]:.6f} | x2 = {x[1]:.6f}  {F_norm}\")\n",
    "        iteration_counter += 1\n",
    "\n",
    "    print(f\"Kökler: x1 = {x[0]:.6f} | x2 = {x[1]:.6f}\")\n",
    "\n",
    "Newton_system(F, J, x=x0, e=tol)"
   ]
  },
  {
   "cell_type": "code",
   "execution_count": null,
   "metadata": {},
   "outputs": [],
   "source": [
    "x"
   ]
  }
 ],
 "metadata": {
  "kernelspec": {
   "display_name": "Python 3",
   "language": "python",
   "name": "python3"
  },
  "language_info": {
   "codemirror_mode": {
    "name": "ipython",
    "version": 3
   },
   "file_extension": ".py",
   "mimetype": "text/x-python",
   "name": "python",
   "nbconvert_exporter": "python",
   "pygments_lexer": "ipython3",
   "version": "3.8.3"
  }
 },
 "nbformat": 4,
 "nbformat_minor": 4
}
